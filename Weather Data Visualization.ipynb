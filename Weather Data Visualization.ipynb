

import pandas as pd
import seaborn as sns
sns.set(color_codes=True)


     

weather = pd.read_csv('Test.csv')


     

weather.head()


     
date_time	is_holiday	air_pollution_index	humidity	wind_speed	wind_direction	visibility_in_miles	dew_point	temperature	rain_p_h	snow_p_h	clouds_all	weather_type	weather_description
0	18-05-2017 00:00	None	73.0	63.0	1.0	27.0	4.0	4.0	285.15	0.0	0.0	90.0	Rain	moderate rain
1	18-05-2017 00:00	None	251.0	63.0	1.0	27.0	4.0	4.0	285.15	0.0	0.0	90.0	Mist	mist
2	18-05-2017 00:00	None	75.0	56.0	1.0	0.0	1.0	1.0	285.15	0.0	0.0	90.0	Drizzle	light intensity drizzle
3	18-05-2017 01:00	None	98.0	56.0	1.0	351.0	2.0	2.0	284.79	0.0	0.0	90.0	Rain	heavy intensity rain
4	18-05-2017 01:00	None	283.0	56.0	1.0	351.0	1.0	1.0	284.79	0.0	0.0	90.0	Mist	mist

weather.info()


     
<class 'pandas.core.frame.DataFrame'>
RangeIndex: 14454 entries, 0 to 14453
Data columns (total 14 columns):
date_time              199 non-null object
is_holiday             199 non-null object
air_pollution_index    199 non-null float64
humidity               199 non-null float64
wind_speed             199 non-null float64
wind_direction         199 non-null float64
visibility_in_miles    199 non-null float64
dew_point              199 non-null float64
temperature            199 non-null float64
rain_p_h               199 non-null float64
snow_p_h               199 non-null float64
clouds_all             199 non-null float64
weather_type           199 non-null object
weather_description    199 non-null object
dtypes: float64(10), object(4)
memory usage: 1.5+ MB

sns.barplot(weather['humidity'], weather['temperature'])


     
<matplotlib.axes._subplots.AxesSubplot at 0x1b275298ef0>


sns.distplot(weather['humidity'])


     
<matplotlib.axes._subplots.AxesSubplot at 0x1b277317b00>


sns.distplot(weather['humidity'], kde=False, rug=True);


     


sns.jointplot(weather['humidity'], weather['temperature'])


     
<seaborn.axisgrid.JointGrid at 0x1b27759cdd8>


sns.jointplot(weather['humidity'], weather['temperature'], kind="hex")


     
<seaborn.axisgrid.JointGrid at 0x1b2776bad68>


sns.jointplot(weather['humidity'], weather['temperature'], kind="kde")


     
<seaborn.axisgrid.JointGrid at 0x1b277817668>


sns.pairplot(weather[['humidity', 'temperature', 'air_pollution_index']])


     
<seaborn.axisgrid.PairGrid at 0x1b277581dd8>


sns.stripplot(weather['weather_type'], weather['temperature'])


     
<matplotlib.axes._subplots.AxesSubplot at 0x1b277e6f550>


sns.stripplot(weather['weather_type'], weather['temperature'], jitter = True)


     
<matplotlib.axes._subplots.AxesSubplot at 0x1b277e8c710>


sns.swarmplot(weather['humidity'], weather['temperature'])


     
<matplotlib.axes._subplots.AxesSubplot at 0x1b2790560f0>


sns.boxplot(weather['humidity'], weather['temperature'], hue=weather['weather_type'])


     
<matplotlib.axes._subplots.AxesSubplot at 0x1b27a4ab438>


sns.barplot(weather['humidity'], weather['temperature'], hue=weather['weather_type'])


     
<matplotlib.axes._subplots.AxesSubplot at 0x1b27b0841d0>


sns.countplot(weather['weather_type'])


     
<matplotlib.axes._subplots.AxesSubplot at 0x1b275291a58>


sns.pointplot(weather['humidity'], weather['temperature'], hue=weather['weather_type'])


     
<matplotlib.axes._subplots.AxesSubplot at 0x1b27b705438>


sns.lmplot(x="humidity", y="temperature", data=weather)


     
<seaborn.axisgrid.FacetGrid at 0x1b2118b8e48>


sns.lmplot(x="humidity", y="temperature", hue="weather_type", data=weather)


     
<seaborn.axisgrid.FacetGrid at 0x1b2136100b8>


 


     
